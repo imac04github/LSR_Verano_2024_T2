{
 "cells": [
  {
   "cell_type": "markdown",
   "metadata": {},
   "source": [
    "Antes de comenzar, vamos a importar la biblioteca math, la cual contiene diversas funciones que nos serán de gran ayuda. Aquí están algunas de las funciones que podemos usar después de importar math:\n",
    "\n",
    "- math.sqrt(x): Devuelve la raíz cuadrada de x.\n",
    "- math.pow(x, y): Devuelve x elevado a la potencia y.\n",
    "- math.factorial(x): Calcula el factorial de x.\n",
    "- math.log(x, base): Calcula el logaritmo de x en la base especificada.\n",
    " -math.sin(x), math.cos(x), math.tan(x): Calcula el seno, coseno y tangente de x, respectivamente.\n",
    "\n",
    "  Nosotros estaremos utilizando \"math.factorial\""
   ]
  },
  {
   "cell_type": "code",
   "execution_count": 1,
   "metadata": {},
   "outputs": [
    {
     "name": "stdout",
     "output_type": "stream",
     "text": [
      "Bibliotecas cargadas\n"
     ]
    }
   ],
   "source": [
    "import math\n",
    "#Imprimira el mensaje indicando que la importacion de las bibliotecas fue exsitosa\n",
    "print(\"Bibliotecas cargadas\")"
   ]
  },
  {
   "cell_type": "markdown",
   "metadata": {},
   "source": [
    " ## 9. Los números telefónicos en la ciudad de Cuernavaca, Morelos, constan de siete dígitos."
   ]
  },
  {
   "cell_type": "markdown",
   "metadata": {},
   "source": [
    "\n",
    "El problema nos pide calcular el número de líneas telefónicas que se pueden crear en la ciudad de Cuernavaca, Morelos.\n",
    "\n",
    "Para calcular el número de líneas telefónicas posibles en la ciudad de Cuernavaca, Morelos, bajo las siguientes condiciones:\n",
    "\n",
    "- Los números deben constar de 7 dígitos.\n",
    "- El primer dígito no puede ser cero."
   ]
  },
  {
   "cell_type": "markdown",
   "metadata": {},
   "source": [
    "**a)** ¿Cuántas líneas telefónicas pueden crearse en esa ciudad? Recuerda que no pueden comenzar con cero.\n",
    "\n",
    "Vamos a analizar el problema\n",
    "\n",
    "- Los numeros deben de tener 7 diguitos \n",
    "\n",
    "- Los numeros no pueden empezar en 0. \n",
    "\n",
    " Por lo tanto el primer numero va a poder ser cualquier numero entre el 1 al 9 \n",
    " \n",
    " - (hay 9 posibilidades para cada uno)\n",
    "\n",
    " "
   ]
  },
  {
   "cell_type": "markdown",
   "metadata": {},
   "source": [
    "<font size=\"4\"> La formula que estaremos usando para calcular el numero de lineas telefonicas es la siguinente:</font>\n"
   ]
  },
  {
   "cell_type": "markdown",
   "metadata": {},
   "source": [
    "$$\\text{Número de líneas telefónicas} = \\text{Número de posibilidades para el primer dígito} \\times \\text{Número de posibilidades para cada uno de los siguientes 6 dígitos}$$\n",
    "\n",
    "<font size=\"3\"> Vamos a sustituir los valores en nuestra formula al sustituir los valores podemos determinar que:</font>\n",
    "\n",
    "$$\\text{Número de líneas telefónicas} = 9 \\times 10^6$$\n",
    "$$\\text{ Resultado Número de líneas telefónicas} = 9,000,000$$\n",
    "\n",
    "<font size=\"3\"> Como resultado, obtenemos que el numero total de lineas telefoicas que vamos a poder crear es de **9,000,000**</font>\n",
    "\n"
   ]
  },
  {
   "cell_type": "markdown",
   "metadata": {},
   "source": [
    "<font size=\"3\"> Lo siguientes es analizar el problema en python, vamos a calcular el numero de lineas telefonicas que se pueden crear. \n",
    "El codigo para poder determinar el numero de lineas es es siguiente: </font>"
   ]
  },
  {
   "cell_type": "code",
   "execution_count": 2,
   "metadata": {},
   "outputs": [
    {
     "name": "stdout",
     "output_type": "stream",
     "text": [
      "a) El numero de lineas telefonicas que podemos crear en Cuernavaca, Morelos es de:  9000000\n"
     ]
    }
   ],
   "source": [
    "# Es la cantidad de posibilidades para el primer digito (1 al 9)\n",
    "primer_digito_posibilidades = 9  \n",
    "    \n",
    "# Cantidad de posibilidades para los siguientes diguitos  (0 a 9)\n",
    "otros_digitos_posibilidades = 10  \n",
    "    \n",
    "# Calcula el total de posibilidades\n",
    "Total_de_posibilidades = primer_digito_posibilidades * otros_digitos_posibilidades ** 6\n",
    "print(f\"a) El numero de lineas telefonicas que podemos crear en Cuernavaca, Morelos es de: \" , Total_de_posibilidades )\n",
    "\n"
   ]
  },
  {
   "cell_type": "markdown",
   "metadata": {},
   "source": [
    "**b)** Si los tres primeros dígitos representan una zona de Cuernavaca, ¿cuántas líneas telefónicas pertenecen a la zona 326? \n",
    "\n",
    "Vamos a analizar el problema\n",
    "\n",
    "- Los tres primeros digitos de los numeros telefonicos en la zona 326 estan fijos y son 3, 2, 6.\n",
    "\n",
    "- Los ultimos cuatro diguitos pueden ser cualquier numero del 0 al 9.\n",
    "(10 posibilidades para cada uno de los cuatro dijitos).\n",
    "\n"
   ]
  },
  {
   "cell_type": "markdown",
   "metadata": {},
   "source": [
    "Para calcular el numero total de lineas telefonicas posibles que hay en la zona 326:\n",
    " \n",
    "- Vamos a multiplicar el numero de opciones para cada uno de los cuatro digitos.\n",
    "\n",
    "  $$  {opcion10 (cuarto dígito)} \\  \\times  \\text{opcion10  (quinto dígito)}  \\times  \\text{opcion10  (sexto dígito)}  \\times \\text{opcion10  (séptimo dígito})$$\n",
    "\n",
    "$$ 10^4 = 10,000$$\n",
    "\n",
    "Por lo tanto hay **10,000** lineas telefonicas que podemos crear para la zona 326 en cuernavaca\n",
    "\n"
   ]
  },
  {
   "cell_type": "markdown",
   "metadata": {},
   "source": [
    "<font size=\"3\"> Lo siguientes es analizar el problema en python, vamos a calcular cuantas linneas telefonicas pertenecen a cuernavaca:\n",
    "El codigo para poder determinar el numero de lineas es es siguiente: </font>"
   ]
  },
  {
   "cell_type": "code",
   "execution_count": 3,
   "metadata": {},
   "outputs": [
    {
     "name": "stdout",
     "output_type": "stream",
     "text": [
      "b) El numero total de linesa que pertenecen a cuernavaca y que se pueden crear es de:  10000\n"
     ]
    }
   ],
   "source": [
    "\n",
    "#Numeros del 0 al 9\n",
    "Otros_Digitos = 10\n",
    "\n",
    "Total = Otros_Digitos ** 4\n",
    "print(f\"b) El numero total de linesa que pertenecen a cuernavaca y que se pueden crear es de: \" , Total)"
   ]
  },
  {
   "cell_type": "markdown",
   "metadata": {},
   "source": [
    "## 10. Se tiene la palabra MURCIÉLAGO. Si no se permiten repeticiones al usar las letras que la forman, determina:"
   ]
  },
  {
   "cell_type": "markdown",
   "metadata": {},
   "source": [
    "El problemas nos pide: \n",
    "\n",
    "- El número de palabras que puedes crear.\n",
    "\n",
    "- El número de palabras con cinco letras.\n",
    "\n",
    "- La probabilidad de que una palabra de cinco letras termine en vocal.\n"
   ]
  },
  {
   "cell_type": "markdown",
   "metadata": {},
   "source": [
    "**a)** El número de palabras que puedes crear.\n",
    "\n",
    "Vamos a analizar el problema \n",
    "\n",
    "- La palabra \"MURCIÉLAGO\" tiene 10 letras distintas.\n",
    "\n",
    "- Po lo tanto la cantidad de palabras que vamos a poder formar con 10 letras si que se repitan es por medio de la multiplicacion \n",
    "\n",
    "$$10 \\times 9 \\times 8 \\times 7 \\times 6 \\times 5 \\times 4 \\times 3 \\times 2 \\times 1$$\n",
    "- Esta operacion se le conoce como factorial y se representa como: </font> $$10!$$\n",
    "\n",
    "- Por lo tanto la cantidad de palabras que se puede formar es de **3,628,800**\n",
    "\n",
    "- A continuacion vamos a calcular el numero de palabras que se pueden formar con la palabra murcirlago en python:\n",
    "\n",
    "\n"
   ]
  },
  {
   "cell_type": "code",
   "execution_count": 4,
   "metadata": {},
   "outputs": [
    {
     "name": "stdout",
     "output_type": "stream",
     "text": [
      "a) La palabras que podemos formar son: 3628800\n"
     ]
    }
   ],
   "source": [
    "# as es una palabra clave en Python que se usa para asignar un alias o nombre alternativo\n",
    "import math as mat\n",
    "# Letras de la palñabra\n",
    "letras = 10\n",
    "\n",
    "# Calcular el factorial del número de letras\n",
    "Palabra = mat.factorial(letras)\n",
    "# Imprimir para mostrar resultado\n",
    "print(f\"a) La palabras que podemos formar son: {Palabra}\")"
   ]
  },
  {
   "cell_type": "markdown",
   "metadata": {},
   "source": [
    "**b)** El número de palabras con cinco letras.\n",
    "\n",
    "- Para resolver lo que nos pide el inciso b vamos a usar la misma logica que el inciso anterior solo que ahora nos pide formar palabras con 5 letras \n",
    "\n",
    "- Por lo tanto el metodo que usaremos nuevamente sera la multiplicacion\n",
    "$$10 \\times 9 \\times 8 \\times 7 \\times 6 = 30,240$$\n",
    "\n",
    "- Por lo tanto la cantidad de palabras que se pueden formar con **5** letras es de **30,240**"
   ]
  },
  {
   "cell_type": "markdown",
   "metadata": {},
   "source": [
    "- Ahora vamos a utilizar paython para poder resolver el problema y el codigo que vamos a utilizar para resolver el problema es el siguente."
   ]
  },
  {
   "cell_type": "code",
   "execution_count": 14,
   "metadata": {},
   "outputs": [
    {
     "name": "stdout",
     "output_type": "stream",
     "text": [
      "b) Las palabras que se pueden formar con 5 letras son:  30240\n"
     ]
    }
   ],
   "source": [
    "# Tamaño \n",
    "numeroLetras = len('MURCIÉLAGO')\n",
    "vocales = 5\n",
    "numeroPalabras5Letras = math.perm(numeroLetras, 5)\n",
    "print(\"b) Las palabras que se pueden formar con 5 letras son: \", numeroPalabras5Letras)\n",
    "    "
   ]
  },
  {
   "cell_type": "markdown",
   "metadata": {},
   "source": [
    "**c)** La probabilidad de que una palabra de cinco letras termine en vocal.\n",
    "\n",
    "- Para resolver el inciso c hay que tener en cuenta qe la palabra \"MURCIELAGO\" cuenta con 5 vocales \n",
    "\n",
    "- Las vocales de la palabra \"MURCIÉLAGO\" son: (A, E, I, O, U).\n",
    "\n",
    "- Y hay 5 consonantes, las cuales son: (M, R, C, L, G).\n",
    "\n",
    "Para poder resolverlo, vamos a seguir los siguientes pasos:\n",
    "\n",
    "- Vamos a elegir la vocal para la última posición.\n",
    "(Tenemos 5 posibilidades).\n",
    "\n",
    "- Vamos a seleccionar y ordenar las letras restantes de las 9 letras que quedan (ya que hemos utilizado una vocal). Esto lo calcularemos utilizando las permutaciones de esas 9 letras tomadas de 4 en 4.\n",
    "$𝑃(9,4)$\n",
    "\n",
    "- Vamos a sustituir nuestros valores en la fórmula:\n",
    "$$P(9,4) = \\frac{9!}{(9-4)!} = \\frac{9!}{5!} = $$\n",
    "$$\\frac{(9*8*7*6)}{(4*3*2*1)} = $$\n",
    "$$Resultado = 3024$$\n",
    "\n",
    "- Calcular el numero de combinaciones posibles para 5 letreas tomadas de 10:\n",
    "\n",
    "$$P(10,5) = \\frac{10!}{5!} = $$\n",
    "$$\\frac{(10*9*8*7*6)}{(5*4*3*2*1)} = $$\n",
    "$$Resultado = 30240$$\n",
    "\n",
    "\n",
    "- Ahora vamos a ver cómo se calcula el número de casos favorables:\n",
    "El número de casos favorables dividido por el número total de casos posibles:\n",
    "\n",
    "$$P(eventos) = \\frac{5 \\times P(9,4)}{P(10,5)} =$$\n",
    "$$p(eventos)= \\frac{5 \\times (3024)}{(30240)} =$$\n",
    "$$p(eventos)= \\frac{(15120)}{(30240)} = $$\n",
    "$$Resultado = 0.5$$\n",
    "\n",
    "\n",
    "\n"
   ]
  },
  {
   "cell_type": "markdown",
   "metadata": {},
   "source": [
    "- Ahora vamos a revisar el código en Python que nos ayudará a resolver el inciso. El código es el siguiente:"
   ]
  },
  {
   "cell_type": "code",
   "execution_count": 6,
   "metadata": {},
   "outputs": [
    {
     "name": "stdout",
     "output_type": "stream",
     "text": [
      "c) La probabilidad de que una palabra de 5 letras termine en vocal es : 0.50000\n"
     ]
    }
   ],
   "source": [
    "import math\n",
    "# Calcular la permutacion de las 9 letras que tomamos de 4 en 4\n",
    "Permutacion_9_4 = math.factorial(9) // math.factorial(5)\n",
    "\n",
    "#Calcular la cantidad de casos favorables\n",
    "Casos_Favorables = 5 * Permutacion_9_4 \n",
    "\n",
    "#Calcular la permutacion de 1o letras que tomamos de 5 en 5\n",
    "Permutacion_10_5 = math.factorial(10) // math.factorial(5)\n",
    "\n",
    "#Calculamos la probabilidad\n",
    "Probabilidad = Casos_Favorables / Permutacion_10_5 \n",
    "\n",
    "#Imprimimos nuestro resultado\n",
    "print(f\"c) La probabilidad de que una palabra de 5 letras termine en vocal es : {Probabilidad:.5f}\")\n"
   ]
  }
 ],
 "metadata": {
  "kernelspec": {
   "display_name": "Python 3",
   "language": "python",
   "name": "python3"
  },
  "language_info": {
   "codemirror_mode": {
    "name": "ipython",
    "version": 3
   },
   "file_extension": ".py",
   "mimetype": "text/x-python",
   "name": "python",
   "nbconvert_exporter": "python",
   "pygments_lexer": "ipython3",
   "version": "3.12.4"
  }
 },
 "nbformat": 4,
 "nbformat_minor": 2
}
